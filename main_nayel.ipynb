{
 "cells": [
  {
   "cell_type": "code",
   "execution_count": 54,
   "metadata": {},
   "outputs": [],
   "source": [
    "import numpy as np\n",
    "import pandas as pd\n",
    "import os\n",
    "from pathlib import Path\n",
    "from tqdm import tqdm\n"
   ]
  },
  {
   "cell_type": "code",
   "execution_count": 44,
   "metadata": {},
   "outputs": [
    {
     "name": "stdout",
     "output_type": "stream",
     "text": [
      "/Users/nayelbenabdesadok/GitProjects/CMI_problematic_internet_use/datas\n"
     ]
    }
   ],
   "source": [
    "current_path = Path.cwd()\n",
    "\n",
    "# Get the parent directory\n",
    "parent_path = current_path\n",
    "data_paths = parent_path / 'datas'  \n",
    "\n",
    "print(data_paths)\n",
    "#\n",
    "train_path = data_paths / 'train.csv'\n",
    "test_path = data_paths / 'test.csv'\n",
    "\n",
    "train_path_ts = data_paths / 'series_train.parquet'\n",
    "test_path_ts = data_paths / 'series_test.parquet'"
   ]
  },
  {
   "cell_type": "code",
   "execution_count": 49,
   "metadata": {},
   "outputs": [],
   "source": [
    "from concurrent.futures import ThreadPoolExecutor\n",
    "\n",
    "def process_file(filename, dirname):\n",
    "    df = pd.read_parquet(os.path.join(dirname, filename, 'part-0.parquet'))\n",
    "    df.drop('step', axis=1, inplace=True)\n",
    "    return df.describe().values.reshape(-1), filename.split('=')[1]\n",
    "\n",
    "def load_time_series(dirname) -> pd.DataFrame:\n",
    "    ids = os.listdir(dirname)\n",
    "    \n",
    "    with ThreadPoolExecutor() as executor:\n",
    "        results = list(tqdm(executor.map(lambda fname: process_file(fname, dirname), ids), total=len(ids)))\n",
    "    \n",
    "    stats, indexes = zip(*results)\n",
    "    \n",
    "    df = pd.DataFrame(stats, columns=[f\"stat_{i}\" for i in range(len(stats[0]))])\n",
    "    df['id'] = indexes\n",
    "    \n",
    "    return df"
   ]
  },
  {
   "cell_type": "code",
   "execution_count": 50,
   "metadata": {},
   "outputs": [
    {
     "name": "stderr",
     "output_type": "stream",
     "text": [
      "100%|██████████| 996/996 [00:57<00:00, 17.20it/s]\n",
      "100%|██████████| 2/2 [00:00<00:00,  9.97it/s]\n"
     ]
    }
   ],
   "source": [
    "train_ts = load_time_series(train_path_ts)\n",
    "test_ts = load_time_series(test_path_ts)"
   ]
  },
  {
   "cell_type": "code",
   "execution_count": 53,
   "metadata": {},
   "outputs": [
    {
     "data": {
      "text/plain": [
       "(996, 97)"
      ]
     },
     "execution_count": 53,
     "metadata": {},
     "output_type": "execute_result"
    }
   ],
   "source": [
    "np.shape(train_ts)"
   ]
  },
  {
   "cell_type": "code",
   "execution_count": 26,
   "metadata": {},
   "outputs": [],
   "source": [
    "train=pd.read_csv(train_path)\n",
    "test=pd.read_csv(test_path)\n",
    "dictionnary=pd.read_csv('/Users/nayelbenabdesadok/GitProjects/CMI_problematic_internet_use/datas/data_dictionary.csv')\n",
    "sample=pd.read_csv('/Users/nayelbenabdesadok/GitProjects/CMI_problematic_internet_use/datas/sample_submission.csv')"
   ]
  },
  {
   "cell_type": "code",
   "execution_count": 55,
   "metadata": {},
   "outputs": [
    {
     "data": {
      "text/plain": [
       "<bound method Series.all of 0                             Identifier\n",
       "1                           Demographics\n",
       "2                           Demographics\n",
       "3                           Demographics\n",
       "4     Children's Global Assessment Scale\n",
       "                     ...                \n",
       "76               Sleep Disturbance Scale\n",
       "77               Sleep Disturbance Scale\n",
       "78               Sleep Disturbance Scale\n",
       "79                          Internet Use\n",
       "80                          Internet Use\n",
       "Name: Instrument, Length: 81, dtype: object>"
      ]
     },
     "execution_count": 55,
     "metadata": {},
     "output_type": "execute_result"
    }
   ],
   "source": [
    "dictionnary['Instrument'].all"
   ]
  },
  {
   "cell_type": "code",
   "execution_count": 29,
   "metadata": {},
   "outputs": [],
   "source": [
    "df = pd.read_parquet('/Users/nayelbenabdesadok/GitProjects/CMI_problematic_internet_use/datas/series_train.parquet/id=93c06d4c/part-0.parquet')"
   ]
  },
  {
   "cell_type": "code",
   "execution_count": 31,
   "metadata": {},
   "outputs": [
    {
     "data": {
      "text/html": [
       "<div>\n",
       "<style scoped>\n",
       "    .dataframe tbody tr th:only-of-type {\n",
       "        vertical-align: middle;\n",
       "    }\n",
       "\n",
       "    .dataframe tbody tr th {\n",
       "        vertical-align: top;\n",
       "    }\n",
       "\n",
       "    .dataframe thead th {\n",
       "        text-align: right;\n",
       "    }\n",
       "</style>\n",
       "<table border=\"1\" class=\"dataframe\">\n",
       "  <thead>\n",
       "    <tr style=\"text-align: right;\">\n",
       "      <th></th>\n",
       "      <th>step</th>\n",
       "      <th>X</th>\n",
       "      <th>Y</th>\n",
       "      <th>Z</th>\n",
       "      <th>enmo</th>\n",
       "      <th>anglez</th>\n",
       "      <th>non-wear_flag</th>\n",
       "      <th>light</th>\n",
       "      <th>battery_voltage</th>\n",
       "      <th>time_of_day</th>\n",
       "      <th>weekday</th>\n",
       "      <th>quarter</th>\n",
       "      <th>relative_date_PCIAT</th>\n",
       "    </tr>\n",
       "  </thead>\n",
       "  <tbody>\n",
       "    <tr>\n",
       "      <th>0</th>\n",
       "      <td>0</td>\n",
       "      <td>0.755956</td>\n",
       "      <td>-0.064450</td>\n",
       "      <td>-0.641633</td>\n",
       "      <td>0.038805</td>\n",
       "      <td>-39.163845</td>\n",
       "      <td>0.0</td>\n",
       "      <td>10.000000</td>\n",
       "      <td>4182.000000</td>\n",
       "      <td>45240000000000</td>\n",
       "      <td>2</td>\n",
       "      <td>4</td>\n",
       "      <td>21.0</td>\n",
       "    </tr>\n",
       "    <tr>\n",
       "      <th>1</th>\n",
       "      <td>1</td>\n",
       "      <td>0.377183</td>\n",
       "      <td>0.524232</td>\n",
       "      <td>-0.081910</td>\n",
       "      <td>0.126356</td>\n",
       "      <td>-3.364063</td>\n",
       "      <td>0.0</td>\n",
       "      <td>4.000000</td>\n",
       "      <td>4181.666504</td>\n",
       "      <td>45245000000000</td>\n",
       "      <td>2</td>\n",
       "      <td>4</td>\n",
       "      <td>21.0</td>\n",
       "    </tr>\n",
       "    <tr>\n",
       "      <th>2</th>\n",
       "      <td>2</td>\n",
       "      <td>0.243445</td>\n",
       "      <td>0.589751</td>\n",
       "      <td>0.538799</td>\n",
       "      <td>0.069743</td>\n",
       "      <td>38.590385</td>\n",
       "      <td>0.0</td>\n",
       "      <td>9.000000</td>\n",
       "      <td>4181.333496</td>\n",
       "      <td>45250000000000</td>\n",
       "      <td>2</td>\n",
       "      <td>4</td>\n",
       "      <td>21.0</td>\n",
       "    </tr>\n",
       "    <tr>\n",
       "      <th>3</th>\n",
       "      <td>3</td>\n",
       "      <td>0.885580</td>\n",
       "      <td>0.225155</td>\n",
       "      <td>-0.199520</td>\n",
       "      <td>0.063883</td>\n",
       "      <td>-12.149102</td>\n",
       "      <td>0.0</td>\n",
       "      <td>14.000000</td>\n",
       "      <td>4181.000000</td>\n",
       "      <td>45255000000000</td>\n",
       "      <td>2</td>\n",
       "      <td>4</td>\n",
       "      <td>21.0</td>\n",
       "    </tr>\n",
       "    <tr>\n",
       "      <th>4</th>\n",
       "      <td>4</td>\n",
       "      <td>0.184744</td>\n",
       "      <td>0.071157</td>\n",
       "      <td>-0.090001</td>\n",
       "      <td>0.160263</td>\n",
       "      <td>-3.711064</td>\n",
       "      <td>0.0</td>\n",
       "      <td>5.333333</td>\n",
       "      <td>4180.666504</td>\n",
       "      <td>45260000000000</td>\n",
       "      <td>2</td>\n",
       "      <td>4</td>\n",
       "      <td>21.0</td>\n",
       "    </tr>\n",
       "  </tbody>\n",
       "</table>\n",
       "</div>"
      ],
      "text/plain": [
       "   step         X         Y         Z      enmo     anglez  non-wear_flag  \\\n",
       "0     0  0.755956 -0.064450 -0.641633  0.038805 -39.163845            0.0   \n",
       "1     1  0.377183  0.524232 -0.081910  0.126356  -3.364063            0.0   \n",
       "2     2  0.243445  0.589751  0.538799  0.069743  38.590385            0.0   \n",
       "3     3  0.885580  0.225155 -0.199520  0.063883 -12.149102            0.0   \n",
       "4     4  0.184744  0.071157 -0.090001  0.160263  -3.711064            0.0   \n",
       "\n",
       "       light  battery_voltage     time_of_day  weekday  quarter  \\\n",
       "0  10.000000      4182.000000  45240000000000        2        4   \n",
       "1   4.000000      4181.666504  45245000000000        2        4   \n",
       "2   9.000000      4181.333496  45250000000000        2        4   \n",
       "3  14.000000      4181.000000  45255000000000        2        4   \n",
       "4   5.333333      4180.666504  45260000000000        2        4   \n",
       "\n",
       "   relative_date_PCIAT  \n",
       "0                 21.0  \n",
       "1                 21.0  \n",
       "2                 21.0  \n",
       "3                 21.0  \n",
       "4                 21.0  "
      ]
     },
     "execution_count": 31,
     "metadata": {},
     "output_type": "execute_result"
    }
   ],
   "source": [
    "df.head()"
   ]
  },
  {
   "cell_type": "code",
   "execution_count": null,
   "metadata": {},
   "outputs": [],
   "source": []
  }
 ],
 "metadata": {
  "kernelspec": {
   "display_name": "kaggle_cmi",
   "language": "python",
   "name": "python3"
  },
  "language_info": {
   "codemirror_mode": {
    "name": "ipython",
    "version": 3
   },
   "file_extension": ".py",
   "mimetype": "text/x-python",
   "name": "python",
   "nbconvert_exporter": "python",
   "pygments_lexer": "ipython3",
   "version": "3.9.20"
  }
 },
 "nbformat": 4,
 "nbformat_minor": 2
}
