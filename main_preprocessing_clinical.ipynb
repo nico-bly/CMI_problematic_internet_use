{
 "cells": [
  {
   "cell_type": "code",
   "execution_count": 1,
   "metadata": {},
   "outputs": [],
   "source": [
    "import numpy as np\n",
    "import pandas as pd\n",
    "import os\n",
    "import glob\n",
    "from tqdm import tqdm"
   ]
  },
  {
   "cell_type": "code",
   "execution_count": 2,
   "metadata": {},
   "outputs": [
    {
     "name": "stdout",
     "output_type": "stream",
     "text": [
      "/home/koko/Bureau/projets/kaggle/cmi_probleamtic_use/CMI_problematic_internet_use/datas\n"
     ]
    }
   ],
   "source": [
    "from pathlib import Path\n",
    "\n",
    "# Get the current working directory\n",
    "current_path = Path.cwd()\n",
    "\n",
    "# Get the parent directory\n",
    "parent_path = current_path\n",
    "data_paths = parent_path / 'datas'  \n",
    "\n",
    "print(data_paths)\n",
    "#\n",
    "train_path = data_paths / 'train.csv'\n",
    "test_path = data_paths / 'test.csv'\n",
    "\n",
    "train_path_ts = data_paths / 'series_train.parquet'\n",
    "test_path_ts = data_paths / 'series_test.parquet'"
   ]
  },
  {
   "cell_type": "code",
   "execution_count": null,
   "metadata": {},
   "outputs": [],
   "source": [
    "# Load datasets\n",
    "\n",
    "train = pd.read_csv(train_path)\n",
    "test = pd.read_csv(test_path)"
   ]
  },
  {
   "cell_type": "markdown",
   "metadata": {},
   "source": [
    "## Pre processing"
   ]
  },
  {
   "cell_type": "code",
   "execution_count": null,
   "metadata": {},
   "outputs": [],
   "source": [
    "features_to_keep = ['id', 'Basic_Demos-Age', 'Basic_Demos-Sex','CGAS-CGAS_Score', 'Physical-BMI', 'Physical-Diastolic_BP','Physical-HeartRate','Physical-Systolic_BP','Fitness_Endurance-Max_Stage','Fitness_Endurance-Time_Sec', \n",
    "                    'FGC-FGC_CU_Zone','FGC-FGC_GSND_Zone','FGC-FGC_GSD_Zone', 'FGC-FGC_PU_Zone', 'FGC-FGC_SRL_Zone', 'FGC-FGC_SRR_Zone','FGC-FGC_TL_Zone',\n",
    "                    'BIA-BIA_Activity_Level_num', 'BIA-BIA_BMC', 'BIA-BIA_BMI', 'BIA-BIA_BMR', 'BIA-BIA_DEE', 'BIA-BIA_ECW', 'BIA-BIA_FFM',\n",
    "                    'BIA-BIA_FFMI', 'BIA-BIA_FMI', 'BIA-BIA_Fat', 'BIA-BIA_Frame_num','BIA-BIA_ICW', 'BIA-BIA_LDM', 'BIA-BIA_LST', 'BIA-BIA_SMM', 'BIA-BIA_TBW',\n",
    "                    'PCIAT-PCIAT_03', 'PCIAT-PCIAT_04', 'PCIAT-PCIAT_05', 'PCIAT-PCIAT_06', 'PCIAT-PCIAT_07', 'PCIAT-PCIAT_08', 'PCIAT-PCIAT_09', 'PCIAT-PCIAT_10',\n",
    "                    'PCIAT-PCIAT_11', 'PCIAT-PCIAT_12', 'PCIAT-PCIAT_13', 'PCIAT-PCIAT_14','PCIAT-PCIAT_15', 'PCIAT-PCIAT_16', 'PCIAT-PCIAT_17', 'PCIAT-PCIAT_18','PCIAT-PCIAT_19', 'PCIAT-PCIAT_20',\n",
    "                    'SDS-SDS_Total_Raw', 'SDS-SDS_Total_T', 'PreInt_EduHx-computerinternet_hoursday',\n",
    "                    'sii']\n",
    "\n",
    "\n",
    "# Select the specified columns from the train DataFrame\n",
    "train_selected = train[features_to_keep].copy()"
   ]
  },
  {
   "cell_type": "code",
   "execution_count": null,
   "metadata": {},
   "outputs": [],
   "source": [
    "columns_to_drop = []\n",
    "\n",
    "for column in features_to_keep:\n",
    "    # Calculate the ratio of NaN values\n",
    "    nan_count = train[column].isna().sum()\n",
    "    total_count = len(train[column])\n",
    "    ratio = nan_count / total_count\n",
    "    print(f\"The ratio for {column} is {ratio}\")\n",
    "    \n",
    "    if ratio > 0.7:\n",
    "        columns_to_drop.append(column)\n",
    "\n",
    "# Drop the columns with NaN ratio greater than 0.7\n",
    "train_selected.drop(columns=columns_to_drop, inplace=True)\n",
    "\n",
    "print(f\"Columns dropped: {columns_to_drop}\")"
   ]
  },
  {
   "cell_type": "markdown",
   "metadata": {},
   "source": [
    "## Strategy\n",
    "\n",
    "We can make category per Age/sex\n",
    "\n",
    "for float take median "
   ]
  },
  {
   "cell_type": "code",
   "execution_count": null,
   "metadata": {},
   "outputs": [],
   "source": [
    "# Identify float type columns\n",
    "float_columns = train_selected.select_dtypes(include=['float64']).columns\n",
    "\n",
    "print(float_columns)\n",
    "\n",
    "# Group by 'Basic_Demos-Age' and 'Basic_Demos-Sex'\n",
    "grouped = train_selected.groupby(['Basic_Demos-Age', 'Basic_Demos-Sex'])\n",
    "\n",
    "# Function to fill NaN values with the median of the group\n",
    "def fill_na_with_median(group):\n",
    "    for column in float_columns:\n",
    "        median_value = group[column].median()\n",
    "        group[column].fillna(median_value, inplace=True)\n",
    "    return group\n",
    "\n",
    "# Apply the function to each group\n",
    "train_selected = grouped.apply(fill_na_with_median)\n",
    "\n",
    "\n",
    "print(train_selected)"
   ]
  },
  {
   "cell_type": "code",
   "execution_count": null,
   "metadata": {},
   "outputs": [],
   "source": [
    "from sklearn.impute import KNNImputer\n",
    "\n",
    "# Drop ID columns or any non-relevant columns\n",
    "\n",
    "ids = train_selected['id']\n",
    "train_selected_without_ids = train_selected.drop(['id'], axis=1)\n",
    "\n",
    "# Initialize the KNNImputer\n",
    "imputer = KNNImputer(n_neighbors=20)\n",
    "\n",
    "# Fit and transform the data\n",
    "imputed_data = imputer.fit_transform(train_selected_without_ids)\n",
    "\n",
    "# Optionally, convert the result back to a DataFrame\n",
    "imputed_df = pd.DataFrame(imputed_data, columns=train_selected_without_ids.columns)\n",
    "\n",
    "imputed_df['id'] = ids.values"
   ]
  },
  {
   "cell_type": "code",
   "execution_count": null,
   "metadata": {},
   "outputs": [],
   "source": [
    "features_to_keep = imputed_df.columns\n",
    "\n",
    "for column in features_to_keep:\n",
    "    # Calculate the ratio of NaN values\n",
    "    nan_count = imputed_df[column].isna().sum()\n",
    "    total_count = len(train[column])\n",
    "    ratio = nan_count / total_count\n",
    "    print(f\"The ratio for {column} is {ratio}\")"
   ]
  }
 ],
 "metadata": {
  "kernelspec": {
   "display_name": "kaggle_cmi",
   "language": "python",
   "name": "python3"
  },
  "language_info": {
   "codemirror_mode": {
    "name": "ipython",
    "version": 3
   },
   "file_extension": ".py",
   "mimetype": "text/x-python",
   "name": "python",
   "nbconvert_exporter": "python",
   "pygments_lexer": "ipython3",
   "version": "3.9.20"
  }
 },
 "nbformat": 4,
 "nbformat_minor": 2
}
